{
 "cells": [
  {
   "cell_type": "code",
   "execution_count": 1,
   "metadata": {},
   "outputs": [],
   "source": [
    "import findspark\n",
    "findspark.init()\n",
    "import pyspark\n",
    "from pyspark.sql import SparkSession\n",
    "spark = SparkSession.builder \\\n",
    "    .appName(\"example\") \\\n",
    "    .config(\"spark.config.option\",\"some-value\") \\\n",
    "    .getOrCreate()\n",
    "sc =spark.sparkContext"
   ]
  },
  {
   "cell_type": "code",
   "execution_count": 3,
   "metadata": {},
   "outputs": [
    {
     "name": "stdout",
     "output_type": "stream",
     "text": [
      "+-----+--------+\n",
      "|label|sentence|\n",
      "+-----+--------+\n",
      "|    1|     asf|\n",
      "|    2|    2143|\n",
      "|    3|    rfds|\n",
      "+-----+--------+\n",
      "\n",
      "+-----+--------+\n",
      "|label|sentence|\n",
      "+-----+--------+\n",
      "|    1|     asf|\n",
      "|    2|    2143|\n",
      "|    4|  f8934y|\n",
      "+-----+--------+\n",
      "\n"
     ]
    }
   ],
   "source": [
    "sentenceDataFrame = spark.createDataFrame((\n",
    "      (1, \"asf\"),\n",
    "      (2, \"2143\"),\n",
    "      (3, \"rfds\")\n",
    "    )).toDF(\"label\", \"sentence\")\n",
    "sentenceDataFrame.show()\n",
    "\n",
    "sentenceDataFrame1 = spark.createDataFrame((\n",
    "      (1, \"asf\"),\n",
    "      (2, \"2143\"),\n",
    "      (4, \"f8934y\")\n",
    "    )).toDF(\"label\", \"sentence\")\n",
    "sentenceDataFrame1.show()"
   ]
  },
  {
   "cell_type": "code",
   "execution_count": 5,
   "metadata": {},
   "outputs": [
    {
     "name": "stdout",
     "output_type": "stream",
     "text": [
      "+--------+\n",
      "|sentence|\n",
      "+--------+\n",
      "|    rfds|\n",
      "+--------+\n",
      "\n"
     ]
    }
   ],
   "source": [
    "#差集    subtract\n",
    "newDF = sentenceDataFrame.select(\"sentence\").subtract(sentenceDataFrame1.select(\"sentence\"))\n",
    "newDF.show()"
   ]
  },
  {
   "cell_type": "code",
   "execution_count": 7,
   "metadata": {},
   "outputs": [
    {
     "name": "stdout",
     "output_type": "stream",
     "text": [
      "+--------+\n",
      "|sentence|\n",
      "+--------+\n",
      "|     asf|\n",
      "|    2143|\n",
      "+--------+\n",
      "\n"
     ]
    }
   ],
   "source": [
    "#交集   intersect\n",
    "newDF_intersect = sentenceDataFrame1.select(\"sentence\").intersect(sentenceDataFrame.select(\"sentence\"))\n",
    "newDF_intersect.show()"
   ]
  },
  {
   "cell_type": "code",
   "execution_count": 8,
   "metadata": {},
   "outputs": [
    {
     "name": "stdout",
     "output_type": "stream",
     "text": [
      "+--------+\n",
      "|sentence|\n",
      "+--------+\n",
      "|     asf|\n",
      "|    2143|\n",
      "|    rfds|\n",
      "|     asf|\n",
      "|    2143|\n",
      "|  f8934y|\n",
      "+--------+\n",
      "\n"
     ]
    }
   ],
   "source": [
    "#并集  union\n",
    "newDF_union = sentenceDataFrame.select(\"sentence\").union(sentenceDataFrame1.select(\"sentence\"))\n",
    "newDF_union.show()"
   ]
  },
  {
   "cell_type": "code",
   "execution_count": 10,
   "metadata": {},
   "outputs": [
    {
     "name": "stdout",
     "output_type": "stream",
     "text": [
      "+--------+\n",
      "|sentence|\n",
      "+--------+\n",
      "|    rfds|\n",
      "|     asf|\n",
      "|    2143|\n",
      "|  f8934y|\n",
      "+--------+\n",
      "\n"
     ]
    }
   ],
   "source": [
    "#并集 +去重\n",
    "newDF_union = sentenceDataFrame.select(\"sentence\").union(sentenceDataFrame1.select(\"sentence\")).distinct()\n",
    "newDF_union.show()"
   ]
  },
  {
   "cell_type": "code",
   "execution_count": 17,
   "metadata": {},
   "outputs": [
    {
     "name": "stdout",
     "output_type": "stream",
     "text": [
      "+---+---+-----+\n",
      "| x1| x2|   x3|\n",
      "+---+---+-----+\n",
      "|  1|  a| 23.0|\n",
      "|  3|  B|-23.0|\n",
      "+---+---+-----+\n",
      "\n"
     ]
    }
   ],
   "source": [
    "from pyspark.sql.functions import lit\n",
    "df = spark.createDataFrame(\n",
    "    [(1, \"a\", 23.0), (3, \"B\", -23.0)], (\"x1\", \"x2\", \"x3\"))\n",
    "df.show()"
   ]
  },
  {
   "cell_type": "code",
   "execution_count": 18,
   "metadata": {},
   "outputs": [
    {
     "name": "stdout",
     "output_type": "stream",
     "text": [
      "+---+---+-----+-----------+\n",
      "| x1| x2|   x3|         id|\n",
      "+---+---+-----+-----------+\n",
      "|  1|  a| 23.0| 8589934592|\n",
      "|  3|  B|-23.0|25769803776|\n",
      "+---+---+-----+-----------+\n",
      "\n"
     ]
    }
   ],
   "source": [
    "from pyspark.sql.functions import monotonically_increasing_id\n",
    "df = df.withColumn(\"id\", monotonically_increasing_id())\n",
    "df.show()"
   ]
  },
  {
   "cell_type": "code",
   "execution_count": 32,
   "metadata": {},
   "outputs": [],
   "source": [
    "from pyspark.sql import Row\n",
    "l = ['jerry', 'tom']\n",
    "row = Row(\"pid\", \"name\")\n",
    "#new_df = sc.parallelize([row(i, l[i]) for i in range(0,len(l))]).toDF()\n",
    "#new_df.show()"
   ]
  },
  {
   "cell_type": "code",
   "execution_count": 27,
   "metadata": {},
   "outputs": [],
   "source": [
    "df.createOrReplaceTempView(\"TBL1\")"
   ]
  },
  {
   "cell_type": "code",
   "execution_count": 33,
   "metadata": {},
   "outputs": [],
   "source": [
    "#spark.sql(\"SELECT label,sentence FROM TBL1 \")"
   ]
  },
  {
   "cell_type": "code",
   "execution_count": null,
   "metadata": {},
   "outputs": [],
   "source": []
  }
 ],
 "metadata": {
  "kernelspec": {
   "display_name": "Python 3",
   "language": "python",
   "name": "python3"
  },
  "language_info": {
   "codemirror_mode": {
    "name": "ipython",
    "version": 3
   },
   "file_extension": ".py",
   "mimetype": "text/x-python",
   "name": "python",
   "nbconvert_exporter": "python",
   "pygments_lexer": "ipython3",
   "version": "3.7.0"
  }
 },
 "nbformat": 4,
 "nbformat_minor": 2
}
