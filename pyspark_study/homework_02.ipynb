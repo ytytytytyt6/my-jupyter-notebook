{
 "cells": [
  {
   "cell_type": "code",
   "execution_count": 1,
   "metadata": {},
   "outputs": [],
   "source": [
    "import findspark\n",
    "findspark.init()\n",
    "import pyspark \n",
    "sc = pyspark.SparkContext(appName='rdd_excercise_2')"
   ]
  },
  {
   "cell_type": "code",
   "execution_count": 2,
   "metadata": {},
   "outputs": [
    {
     "data": {
      "text/plain": [
       "[('SB10001', 1000),\n",
       " ('SB10002', 1200),\n",
       " ('SB10003', 8000),\n",
       " ('SB10004', 4000),\n",
       " ('SB10004', 300),\n",
       " ('SB10003', 10000),\n",
       " ('SB10002', 500),\n",
       " ('SB10002', 56),\n",
       " ('SB10001', 1000),\n",
       " ('SB10003', 1000),\n",
       " ('SB10004', -1000)]"
      ]
     },
     "execution_count": 2,
     "metadata": {},
     "output_type": "execute_result"
    }
   ],
   "source": [
    "from decimal import Decimal\n",
    "acTransList =sc.parallelize([(\"SB10001\",1000),(\"SB10002\",1200),(\"SB10003\",8000),(\"SB10004\",4000),(\"SB10004\",300),(\"SB10003\",10000),(\"SB10002\",500),(\"SB10002\",56),(\"SB10001\",1000),(\"SB10003\",1000),(\"SB10004\",-1000)])\n",
    "acTransList.collect()\n",
    "# 计算每个账号的交易汇总，reduceByKey\n",
    "# 根据汇总的Key排序 sortByKey\n",
    "# 查看api文档里的groupByKey，了解与reduceByKey的区别"
   ]
  },
  {
   "cell_type": "code",
   "execution_count": 6,
   "metadata": {},
   "outputs": [
    {
     "data": {
      "text/plain": [
       "[('SB10003', 19000), ('SB10001', 2000), ('SB10004', 3300), ('SB10002', 1756)]"
      ]
     },
     "execution_count": 6,
     "metadata": {},
     "output_type": "execute_result"
    }
   ],
   "source": [
    "# 计算每个账号的交易汇总，reduceByKey\n",
    "acTransList.reduceByKey(lambda x,y : (x+y)).collect()"
   ]
  },
  {
   "cell_type": "code",
   "execution_count": 7,
   "metadata": {},
   "outputs": [
    {
     "data": {
      "text/plain": [
       "[('SB10004', 3300), ('SB10003', 19000), ('SB10002', 1756), ('SB10001', 2000)]"
      ]
     },
     "execution_count": 7,
     "metadata": {},
     "output_type": "execute_result"
    }
   ],
   "source": [
    "# 根据汇总的Key排序 sortByKey\n",
    "acTransList_2 = acTransList.reduceByKey(lambda x,y : (x+y))\n",
    "acTransList_2.sortByKey(ascending = False).collect()"
   ]
  },
  {
   "cell_type": "code",
   "execution_count": 10,
   "metadata": {},
   "outputs": [
    {
     "data": {
      "text/plain": [
       "[('SB10003', <pyspark.resultiterable.ResultIterable at 0x28094351a58>),\n",
       " ('SB10001', <pyspark.resultiterable.ResultIterable at 0x28094351940>),\n",
       " ('SB10004', <pyspark.resultiterable.ResultIterable at 0x280943573c8>),\n",
       " ('SB10002', <pyspark.resultiterable.ResultIterable at 0x28094357438>)]"
      ]
     },
     "execution_count": 10,
     "metadata": {},
     "output_type": "execute_result"
    }
   ],
   "source": [
    "#查看api文档里的groupByKey，了解与reduceByKey的区别\n",
    "acTransList_2.groupByKey().collect()"
   ]
  },
  {
   "cell_type": "code",
   "execution_count": 14,
   "metadata": {},
   "outputs": [
    {
     "data": {
      "text/plain": [
       "[('SB10001', <pyspark.resultiterable.ResultIterable at 0x28094357be0>),\n",
       " ('SB10002', <pyspark.resultiterable.ResultIterable at 0x2809436c860>),\n",
       " ('SB10003', <pyspark.resultiterable.ResultIterable at 0x280943579e8>),\n",
       " ('SB10004', <pyspark.resultiterable.ResultIterable at 0x2809436ca90>)]"
      ]
     },
     "execution_count": 14,
     "metadata": {},
     "output_type": "execute_result"
    }
   ],
   "source": [
    "sorted(acTransList_2.groupByKey().collect())"
   ]
  },
  {
   "cell_type": "code",
   "execution_count": null,
   "metadata": {},
   "outputs": [],
   "source": []
  }
 ],
 "metadata": {
  "kernelspec": {
   "display_name": "Python 3",
   "language": "python",
   "name": "python3"
  },
  "language_info": {
   "codemirror_mode": {
    "name": "ipython",
    "version": 3
   },
   "file_extension": ".py",
   "mimetype": "text/x-python",
   "name": "python",
   "nbconvert_exporter": "python",
   "pygments_lexer": "ipython3",
   "version": "3.7.0"
  }
 },
 "nbformat": 4,
 "nbformat_minor": 2
}
