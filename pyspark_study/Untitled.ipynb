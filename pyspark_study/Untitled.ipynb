{
 "cells": [
  {
   "cell_type": "code",
   "execution_count": 1,
   "metadata": {},
   "outputs": [],
   "source": [
    "import findspark\n",
    "findspark.init()\n",
    "from pyspark import SparkConf,SparkContext\n",
    "#from pyspark.sql import SparkSession\n",
    "conf = SparkConf().setMaster('local').setAppName('sales')\n",
    "sc = SparkContext(conf = conf)"
   ]
  },
  {
   "cell_type": "code",
   "execution_count": 3,
   "metadata": {},
   "outputs": [
    {
     "data": {
      "text/plain": [
       "['1,34,2334', '2,33,3433', '3,53,2324', '4,59,2232', '5,68,4444']"
      ]
     },
     "execution_count": 3,
     "metadata": {},
     "output_type": "execute_result"
    }
   ],
   "source": [
    "lines = sc.textFile('sales.csv')# 销售数据为[序号id，区号，区的销售额]\n",
    "lines.take(5)"
   ]
  },
  {
   "cell_type": "code",
   "execution_count": 4,
   "metadata": {},
   "outputs": [],
   "source": [
    "def parseLine(line):\n",
    "    fields =line.split(',')\n",
    "    dist = int(fields[1])\n",
    "    sales = int(fields[2])\n",
    "    return (dist,sales)#取得（区号和区的销售额）为一个键值对"
   ]
  },
  {
   "cell_type": "code",
   "execution_count": 5,
   "metadata": {},
   "outputs": [
    {
     "data": {
      "text/plain": [
       "[(34, 2334), (33, 3433), (53, 2324), (59, 2232), (68, 4444)]"
      ]
     },
     "execution_count": 5,
     "metadata": {},
     "output_type": "execute_result"
    }
   ],
   "source": [
    "rdd =lines.map(parseLine)\n",
    "rdd.take(5)"
   ]
  },
  {
   "cell_type": "code",
   "execution_count": 6,
   "metadata": {},
   "outputs": [
    {
     "data": {
      "text/plain": [
       "[(34, (2334, 1)),\n",
       " (33, (3433, 1)),\n",
       " (53, (2324, 1)),\n",
       " (59, (2232, 1)),\n",
       " (68, (4444, 1)),\n",
       " (78, (4522, 1)),\n",
       " (87, (4600, 1)),\n",
       " (97, (4678, 1)),\n",
       " (16, (4756, 1)),\n",
       " (16, (4834, 1))]"
      ]
     },
     "execution_count": 6,
     "metadata": {},
     "output_type": "execute_result"
    }
   ],
   "source": [
    "rdd.mapValues(lambda x: (x,1)).take(10)\n",
    "#如果transformation不需要改变key，那么我们通常考虑使用mapValues()或者flatValues()而不是map()或者flatmap()\n",
    "#前者更加高效，可以保留原始的partition，而无需shuffle数据。\n",
    "'''\n",
    "[(34, (2334, 1)),\n",
    " (33, (3433, 1)),\n",
    " (53, (2324, 1)),\n",
    " (59, (2232, 1)),\n",
    " (68, (4444, 1)),\n",
    " (78, (4522, 1)),\n",
    " (87, (4600, 1)),\n",
    " (97, (4678, 1)),\n",
    " (16, (4756, 1)),\n",
    " (16, (4834, 1))]\n",
    "'''"
   ]
  },
  {
   "cell_type": "code",
   "execution_count": 8,
   "metadata": {},
   "outputs": [
    {
     "data": {
      "text/plain": [
       "[(34, (476038, 35)),\n",
       " (33, (512389, 37)),\n",
       " (53, (393748, 30)),\n",
       " (59, (173806, 14)),\n",
       " (68, (177032, 14)),\n",
       " (78, (210880, 16)),\n",
       " (87, (212128, 16)),\n",
       " (97, (321940, 22)),\n",
       " (16, (649028, 44)),\n",
       " (23, (327088, 22))]"
      ]
     },
     "execution_count": 8,
     "metadata": {},
     "output_type": "execute_result"
    }
   ],
   "source": [
    "rdd.mapValues(lambda x : (x,1)).reduceByKey(lambda x,y:(x[0] + y[0],x[1] + y[1])).take(10)\n",
    "#得到(区号, (该区号的所有销售值, sales.csv中该区号出现的次数))\n",
    "'''\n",
    "[(34, (476038, 35)),\n",
    " (33, (512389, 37)),\n",
    " (53, (393748, 30)),\n",
    " (59, (173806, 14)),\n",
    " (68, (177032, 14)),\n",
    " (78, (210880, 16)),\n",
    " (87, (212128, 16)),\n",
    " (97, (321940, 22)),\n",
    " (16, (649028, 44)),\n",
    " (23, (327088, 22))]\n",
    "'''"
   ]
  },
  {
   "cell_type": "code",
   "execution_count": 9,
   "metadata": {},
   "outputs": [
    {
     "data": {
      "text/plain": [
       "[(34, 13601.085714285715),\n",
       " (33, 13848.351351351352),\n",
       " (53, 13124.933333333332),\n",
       " (59, 12414.714285714286),\n",
       " (68, 12645.142857142857)]"
      ]
     },
     "execution_count": 9,
     "metadata": {},
     "output_type": "execute_result"
    }
   ],
   "source": [
    "totalsByAge =rdd.mapValues(lambda x : (x,1)).reduceByKey(lambda x,y:(x[0] + y[0],x[1] + y[1]))\n",
    "averageByAge = totalsByAge.mapValues(lambda x: x[0] / x[1])\n",
    "#averageByAge.take(5)\n",
    "#得到(区号, (该区号的所有销售值/sales.csv中该区号出现的次数)--->也就是平均销售额)\n",
    "'''\n",
    "[(34, 13601.085714285715),\n",
    " (33, 13848.351351351352),\n",
    " (53, 13124.933333333332),\n",
    " (59, 12414.714285714286),\n",
    " (68, 12645.142857142857)]\n",
    "'''"
   ]
  },
  {
   "cell_type": "code",
   "execution_count": 10,
   "metadata": {},
   "outputs": [
    {
     "name": "stdout",
     "output_type": "stream",
     "text": [
      "(34, 13601.085714285715)\n",
      "(33, 13848.351351351352)\n",
      "(53, 13124.933333333332)\n",
      "(59, 12414.714285714286)\n",
      "(68, 12645.142857142857)\n",
      "(78, 13180.0)\n",
      "(87, 13258.0)\n",
      "(97, 14633.636363636364)\n",
      "(16, 14750.636363636364)\n",
      "(23, 14867.636363636364)\n"
     ]
    }
   ],
   "source": [
    "results = averageByAge.collect()\n",
    "for result in results:\n",
    "    print(result)\n",
    "'''\n",
    "(34, 13601.085714285715)\n",
    "(33, 13848.351351351352)\n",
    "(53, 13124.933333333332)\n",
    "(59, 12414.714285714286)\n",
    "(68, 12645.142857142857)\n",
    "(78, 13180.0)\n",
    "(87, 13258.0)\n",
    "(97, 14633.636363636364)\n",
    "(16, 14750.636363636364)\n",
    "(23, 14867.636363636364)\n",
    "'''"
   ]
  },
  {
   "cell_type": "code",
   "execution_count": null,
   "metadata": {},
   "outputs": [],
   "source": []
  }
 ],
 "metadata": {
  "kernelspec": {
   "display_name": "Python 3",
   "language": "python",
   "name": "python3"
  },
  "language_info": {
   "codemirror_mode": {
    "name": "ipython",
    "version": 3
   },
   "file_extension": ".py",
   "mimetype": "text/x-python",
   "name": "python",
   "nbconvert_exporter": "python",
   "pygments_lexer": "ipython3",
   "version": "3.7.0"
  }
 },
 "nbformat": 4,
 "nbformat_minor": 2
}
