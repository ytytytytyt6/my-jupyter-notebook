{
 "cells": [
  {
   "cell_type": "code",
   "execution_count": 1,
   "metadata": {},
   "outputs": [],
   "source": [
    "import findspark\n",
    "findspark.init()\n",
    "import pyspark \n",
    "sc = pyspark.SparkContext(appName='rdd_excercise_1')"
   ]
  },
  {
   "cell_type": "code",
   "execution_count": 44,
   "metadata": {},
   "outputs": [],
   "source": [
    "# Use Cases\n",
    "# 1.创建一个RDD\n",
    "# 2.找出所有正常记录，正常记录以\"SB\"开头，交易值>0\n",
    "# 3.找出所有记录大于1000的记录\n",
    "# 4.找出所有不正常记录\n",
    "# 5.找出交易等于或者小于0的记录\n",
    "# 6.找出非\"SB\"开头记录，找出交易小于等于0的记录，之后进行union操作\n",
    "# 7.计算所有交易的总和\n",
    "# 8.最大和最小的交易\n",
    "\n",
    "#acTransList =  ['SB10001,1000','SB10002,1200','SB10003,8000','SB10004,4000','SB10005,300','SB10006,10000','SB10007,500','SB10008,56','SB10009,1000']\n"
   ]
  },
  {
   "cell_type": "markdown",
   "metadata": {},
   "source": [
    "#### 1.创建一个RDD"
   ]
  },
  {
   "cell_type": "code",
   "execution_count": 137,
   "metadata": {},
   "outputs": [
    {
     "data": {
      "text/plain": [
       "[('SB10001', 1000),\n",
       " ('SB10002', 1200),\n",
       " ('SB10003', 8000),\n",
       " ('SB10004', 4000),\n",
       " ('SB10005', 300),\n",
       " ('SB10006', 10000),\n",
       " ('SB10007', 500),\n",
       " ('SB10008', 56),\n",
       " ('SB10009', 1000),\n",
       " ('B10009', 1000),\n",
       " ('SB10011', -1000)]"
      ]
     },
     "execution_count": 137,
     "metadata": {},
     "output_type": "execute_result"
    }
   ],
   "source": [
    "acTransList =sc.parallelize([(\"SB10001\",1000),(\"SB10002\",1200),(\"SB10003\",8000),(\"SB10004\",4000),(\"SB10005\",300),(\"SB10006\",10000),(\"SB10007\",500),(\"SB10008\",56),(\"SB10009\",1000),(\"B10009\",1000),(\"SB10011\",-1000)])\n",
    "acTransList.collect()"
   ]
  },
  {
   "cell_type": "markdown",
   "metadata": {},
   "source": [
    "#### 2.找出所有正常记录，正常记录以\"SB\"开头，交易值>0"
   ]
  },
  {
   "cell_type": "code",
   "execution_count": null,
   "metadata": {},
   "outputs": [],
   "source": [
    "acTransList.filter(lambda x: x[1] and x[0].startswith(\"SB\")).collect()"
   ]
  },
  {
   "cell_type": "markdown",
   "metadata": {},
   "source": [
    "#### 3.找出所有记录大于1000的记录"
   ]
  },
  {
   "cell_type": "code",
   "execution_count": 95,
   "metadata": {},
   "outputs": [
    {
     "data": {
      "text/plain": [
       "[('SB10002', 1200), ('SB10003', 8000), ('SB10004', 4000), ('SB10006', 10000)]"
      ]
     },
     "execution_count": 95,
     "metadata": {},
     "output_type": "execute_result"
    }
   ],
   "source": [
    "acTransList_3 = acTransList.filter(lambda x: x[1]).filter(lambda x: x[0].startswith(\"SB\"))\n",
    "acTransList_3.filter(lambda x: x[1]>1000).collect()"
   ]
  },
  {
   "cell_type": "markdown",
   "metadata": {},
   "source": [
    "#### 4.找出所有不正常记录"
   ]
  },
  {
   "cell_type": "code",
   "execution_count": 101,
   "metadata": {},
   "outputs": [
    {
     "data": {
      "text/plain": [
       "[('B10009', 1000), ('SB10011', -1000)]"
      ]
     },
     "execution_count": 101,
     "metadata": {},
     "output_type": "execute_result"
    }
   ],
   "source": [
    "acTransList.filter(lambda x: (x[1]<=0) or x[0][0:2]!='SB' ).collect()"
   ]
  },
  {
   "cell_type": "markdown",
   "metadata": {},
   "source": [
    "#### 5.找出交易等于或者小于0的记录"
   ]
  },
  {
   "cell_type": "code",
   "execution_count": 103,
   "metadata": {},
   "outputs": [
    {
     "data": {
      "text/plain": [
       "[('SB10011', -1000)]"
      ]
     },
     "execution_count": 103,
     "metadata": {},
     "output_type": "execute_result"
    }
   ],
   "source": [
    "acTransList.filter(lambda x: (x[1]<=0)).collect()"
   ]
  },
  {
   "cell_type": "markdown",
   "metadata": {},
   "source": [
    "#### 6.找出非\"SB\"开头记录，找出交易小于等于0的记录，之后进行union操作"
   ]
  },
  {
   "cell_type": "code",
   "execution_count": 138,
   "metadata": {},
   "outputs": [
    {
     "ename": "SyntaxError",
     "evalue": "invalid syntax (<ipython-input-138-a352a6850e3a>, line 3)",
     "output_type": "error",
     "traceback": [
      "\u001b[1;36m  File \u001b[1;32m\"<ipython-input-138-a352a6850e3a>\"\u001b[1;36m, line \u001b[1;32m3\u001b[0m\n\u001b[1;33m    rdd3 = rdd1.union(rdd2)\u001b[0m\n\u001b[1;37m       ^\u001b[0m\n\u001b[1;31mSyntaxError\u001b[0m\u001b[1;31m:\u001b[0m invalid syntax\n"
     ]
    }
   ],
   "source": [
    "rdd1 = acTransList.filter(lambda x: (x[1]<=0))\n",
    "rdd2 = acTransList.filter(lambda x: (x[0][0:2]!='SB')\n",
    "rdd3 = rdd1.union(rdd2)\n",
    "rdd3.collect()"
   ]
  },
  {
   "cell_type": "markdown",
   "metadata": {},
   "source": [
    "#### 7.计算所有交易的总和"
   ]
  },
  {
   "cell_type": "code",
   "execution_count": 140,
   "metadata": {},
   "outputs": [
    {
     "data": {
      "text/plain": [
       "26056"
      ]
     },
     "execution_count": 140,
     "metadata": {},
     "output_type": "execute_result"
    }
   ],
   "source": [
    "acTransList.map(lambda x: x[1]).sum()"
   ]
  },
  {
   "cell_type": "markdown",
   "metadata": {},
   "source": [
    "#### 8.最大和最小的交易"
   ]
  },
  {
   "cell_type": "code",
   "execution_count": 143,
   "metadata": {},
   "outputs": [
    {
     "data": {
      "text/plain": [
       "10000"
      ]
     },
     "execution_count": 143,
     "metadata": {},
     "output_type": "execute_result"
    }
   ],
   "source": [
    "acTransList.map(lambda x: x[1]).max()"
   ]
  },
  {
   "cell_type": "code",
   "execution_count": 144,
   "metadata": {},
   "outputs": [
    {
     "data": {
      "text/plain": [
       "-1000"
      ]
     },
     "execution_count": 144,
     "metadata": {},
     "output_type": "execute_result"
    }
   ],
   "source": [
    "acTransList.map(lambda x: x[1]).min()"
   ]
  },
  {
   "cell_type": "code",
   "execution_count": null,
   "metadata": {},
   "outputs": [],
   "source": []
  }
 ],
 "metadata": {
  "kernelspec": {
   "display_name": "Python 3",
   "language": "python",
   "name": "python3"
  },
  "language_info": {
   "codemirror_mode": {
    "name": "ipython",
    "version": 3
   },
   "file_extension": ".py",
   "mimetype": "text/x-python",
   "name": "python",
   "nbconvert_exporter": "python",
   "pygments_lexer": "ipython3",
   "version": "3.7.0"
  }
 },
 "nbformat": 4,
 "nbformat_minor": 2
}
