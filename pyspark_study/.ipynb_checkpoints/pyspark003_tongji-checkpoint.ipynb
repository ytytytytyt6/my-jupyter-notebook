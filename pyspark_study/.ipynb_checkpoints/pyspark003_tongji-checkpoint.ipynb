{
 "cells": [
  {
   "cell_type": "code",
   "execution_count": null,
   "metadata": {},
   "outputs": [],
   "source": [
    "mapvalues\n"
   ]
  },
  {
   "cell_type": "code",
   "execution_count": 1,
   "metadata": {},
   "outputs": [],
   "source": [
    "import findspark\n",
    "findspark.init()\n",
    "from pyspark import SparkConf,SparkContext\n",
    "#from pyspark.sql import SparkSession\n",
    "conf = SparkConf().setMaster('local').setAppName('sales')\n",
    "sc = SparkContext(conf = conf)\n",
    "#尝试使用SparkSession\n",
    "# spark = SparkSession.builder.master('local')\\\n",
    "#     .appName(\"sales\")\\\n",
    "#     .config(\"spark.conf\", \"some-value\")\\\n",
    "#     .getOrCreate()"
   ]
  },
  {
   "cell_type": "code",
   "execution_count": null,
   "metadata": {},
   "outputs": [],
   "source": [
    "def parseLine(line):\n",
    "    fields =line.split(',')\n",
    "    dist = int(fields[1])\n",
    "    sales = int(fields[2])\n",
    "    return (dist,sales)\n",
    "lines = sc.textFile('sales.csv')\n",
    "rdd =lines.map(parseLine)\n",
    "totalsByAge =rdd.mapValues(lambda x : (x,1)).reduceByKey(lambda x,y:(x[0] + y[0],x[1] + y[1]))\n",
    "averageByAge = totalsByAge.mapValues(lambda x: x[0] / x[1])"
   ]
  },
  {
   "cell_type": "code",
   "execution_count": 2,
   "metadata": {},
   "outputs": [
    {
     "data": {
      "text/plain": [
       "['1,34,', '2,33,3433', '3,53,2324', '4,59,2232', '5,68,4444']"
      ]
     },
     "execution_count": 2,
     "metadata": {},
     "output_type": "execute_result"
    }
   ],
   "source": [
    "lines = sc.textFile('sales.csv')# 销售数据为[序号id，区号，区的销售额]\n",
    "lines.take(5)"
   ]
  },
  {
   "cell_type": "code",
   "execution_count": null,
   "metadata": {},
   "outputs": [],
   "source": [
    "def parseLine(line):\n",
    "    fields =line.split(',')\n",
    "    dist = int(fields[1])\n",
    "    sales = int(fields[2])\n",
    "    return (dist,sales) #取得（区号和区的销售额）为一个键值对\n",
    "lines = sc.textFile('sales.csv')\n",
    "rdd =lines.map(parseLine)\n",
    "rdd.take(5)"
   ]
  },
  {
   "cell_type": "code",
   "execution_count": null,
   "metadata": {},
   "outputs": [],
   "source": [
    "lines.take(5)"
   ]
  },
  {
   "cell_type": "code",
   "execution_count": null,
   "metadata": {},
   "outputs": [],
   "source": []
  }
 ],
 "metadata": {
  "kernelspec": {
   "display_name": "Python 3",
   "language": "python",
   "name": "python3"
  },
  "language_info": {
   "codemirror_mode": {
    "name": "ipython",
    "version": 3
   },
   "file_extension": ".py",
   "mimetype": "text/x-python",
   "name": "python",
   "nbconvert_exporter": "python",
   "pygments_lexer": "ipython3",
   "version": "3.7.0"
  }
 },
 "nbformat": 4,
 "nbformat_minor": 2
}
