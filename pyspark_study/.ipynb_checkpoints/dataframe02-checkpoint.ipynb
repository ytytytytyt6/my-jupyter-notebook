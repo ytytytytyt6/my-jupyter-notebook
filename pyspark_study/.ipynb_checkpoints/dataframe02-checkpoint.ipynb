{
 "cells": [
  {
   "cell_type": "code",
   "execution_count": 1,
   "metadata": {},
   "outputs": [],
   "source": [
    "#搞不清楚读文件和列表的区别\n",
    "#https://spark.apache.org/docs/latest/api/python/pyspark.html#pyspark.RDD\n",
    "import findspark\n",
    "findspark.init()\n"
   ]
  },
  {
   "cell_type": "code",
   "execution_count": 2,
   "metadata": {},
   "outputs": [],
   "source": [
    "from pyspark.sql import SparkSession\n",
    "from pyspark.sql import Row\n",
    "from pyspark.sql.types import *\n",
    "import pyspark.sql.functions as func"
   ]
  },
  {
   "cell_type": "code",
   "execution_count": 3,
   "metadata": {},
   "outputs": [],
   "source": [
    "spark = SparkSession.builder\\\n",
    "    .config(\"sparksql.warehouse.dir\",\"file:///c:/temp\")\\\n",
    "    .appName(\"dat_frame\").getOrCreate()\n",
    "spark.conf.set(\"spark.executor.memory\",\"4g\")\n",
    "sc = spark.sparkContext#注意是sparkContext，不是SparkContext"
   ]
  },
  {
   "cell_type": "code",
   "execution_count": 4,
   "metadata": {},
   "outputs": [],
   "source": [
    "rdd =sc.textFile(\"people.csv\")\n",
    "Person =Row(\"first_name\",\"last_name\",\"gender\",\"age\")\n",
    "def line_to_person(line):\n",
    "    cells =line.split(\",\")\n",
    "    cells[3] = int(cells[3])\n",
    "    return Person(*cells)\n",
    "\n",
    "peopleRDD=rdd.map(line_to_person)"
   ]
  },
  {
   "cell_type": "code",
   "execution_count": 5,
   "metadata": {},
   "outputs": [
    {
     "data": {
      "text/plain": [
       "[Row(first_name='Ededd', last_name='Shankj', gender='F', age=43),\n",
       " Row(first_name='Noem', last_name='Lii', gender='F', age=43)]"
      ]
     },
     "execution_count": 5,
     "metadata": {},
     "output_type": "execute_result"
    }
   ],
   "source": [
    "peopleRDD.take(2)"
   ]
  },
  {
   "cell_type": "code",
   "execution_count": 6,
   "metadata": {},
   "outputs": [
    {
     "name": "stdout",
     "output_type": "stream",
     "text": [
      "root\n",
      " |-- first_name: string (nullable = true)\n",
      " |-- last_name: string (nullable = true)\n",
      " |-- gender: string (nullable = true)\n",
      " |-- age: long (nullable = true)\n",
      "\n"
     ]
    }
   ],
   "source": [
    "df = peopleRDD.toDF()\n",
    "df.printSchema()"
   ]
  },
  {
   "cell_type": "code",
   "execution_count": 9,
   "metadata": {},
   "outputs": [
    {
     "name": "stdout",
     "output_type": "stream",
     "text": [
      "root\n",
      " |-- first_name: string (nullable = true)\n",
      " |-- last_name: string (nullable = true)\n",
      " |-- gender: string (nullable = true)\n",
      " |-- age: long (nullable = true)\n",
      "\n"
     ]
    }
   ],
   "source": [
    "df = spark.createDataFrame(peopleRDD)\n",
    "df.printSchema()"
   ]
  },
  {
   "cell_type": "code",
   "execution_count": 16,
   "metadata": {},
   "outputs": [
    {
     "name": "stdout",
     "output_type": "stream",
     "text": [
      "root\n",
      " |-- first_name: string (nullable = true)\n",
      " |-- last_name: string (nullable = true)\n",
      " |-- gender: string (nullable = true)\n",
      " |-- age: string (nullable = true)\n",
      "\n"
     ]
    }
   ],
   "source": [
    "from collections import namedtuple\n",
    "Person =namedtuple(\"people\",[\"first_name\",\"last_name\",\"gender\",\"age\"])\n",
    "\n",
    "def line_to_person(line):\n",
    "    cells =line.split(\",\")\n",
    "    return Person(cells[0],cells[1],cells[2],int(cells[3]))\n",
    "personRDD1 = rdd.map(line_to_person)\n",
    "df_1 = spark.createDataFrame(personRDD1)\n",
    "df_1.printSchema()"
   ]
  },
  {
   "cell_type": "code",
   "execution_count": 17,
   "metadata": {},
   "outputs": [
    {
     "name": "stdout",
     "output_type": "stream",
     "text": [
      "+----------+---------+------+---+\n",
      "|first_name|last_name|gender|age|\n",
      "+----------+---------+------+---+\n",
      "|     Ededd|   Shankj|     F| 43|\n",
      "|      Noem|      Lii|     F| 43|\n",
      "|      Rgfj|       Wu|     M| 23|\n",
      "|      Djgd|     Sjdh|     M| 44|\n",
      "+----------+---------+------+---+\n",
      "\n"
     ]
    }
   ],
   "source": [
    "df.show()#也可以指定显示多少个"
   ]
  },
  {
   "cell_type": "code",
   "execution_count": 19,
   "metadata": {},
   "outputs": [
    {
     "name": "stdout",
     "output_type": "stream",
     "text": [
      "+----------+------+----------+\n",
      "|first_name|gender|(age > 23)|\n",
      "+----------+------+----------+\n",
      "|     Ededd|     F|      true|\n",
      "+----------+------+----------+\n",
      "only showing top 1 row\n",
      "\n"
     ]
    }
   ],
   "source": [
    "df.select(df[\"first_name\"],df[\"gender\"],df[\"age\"]>23).show()"
   ]
  },
  {
   "cell_type": "code",
   "execution_count": 20,
   "metadata": {},
   "outputs": [
    {
     "name": "stdout",
     "output_type": "stream",
     "text": [
      "+----------+------+----------+---------+\n",
      "|first_name|gender|(age > 23)|(age + 5)|\n",
      "+----------+------+----------+---------+\n",
      "|     Ededd|     F|      true|       48|\n",
      "|      Noem|     F|      true|       48|\n",
      "|      Rgfj|     M|     false|       28|\n",
      "|      Djgd|     M|      true|       49|\n",
      "+----------+------+----------+---------+\n",
      "\n"
     ]
    }
   ],
   "source": [
    "df.select(df[\"first_name\"],df[\"gender\"],df[\"age\"]>23,df.age+5).show()"
   ]
  },
  {
   "cell_type": "code",
   "execution_count": 21,
   "metadata": {},
   "outputs": [
    {
     "name": "stdout",
     "output_type": "stream",
     "text": [
      "+----------+---+\n",
      "|first_name|age|\n",
      "+----------+---+\n",
      "|     Ededd| 43|\n",
      "|      Noem| 43|\n",
      "|      Djgd| 44|\n",
      "+----------+---+\n",
      "\n"
     ]
    }
   ],
   "source": [
    "#如何过滤数据\n",
    "df.filter(df.age >25).select(\"first_name\",\"age\").show()"
   ]
  },
  {
   "cell_type": "code",
   "execution_count": 22,
   "metadata": {},
   "outputs": [
    {
     "name": "stdout",
     "output_type": "stream",
     "text": [
      "+----------+---+\n",
      "|first_name|age|\n",
      "+----------+---+\n",
      "|     Ededd| 43|\n",
      "|      Noem| 43|\n",
      "+----------+---+\n",
      "\n"
     ]
    }
   ],
   "source": [
    "df.filter((df.age >25)&(df.gender=='F')).select(\"first_name\",\"age\").show()"
   ]
  },
  {
   "cell_type": "code",
   "execution_count": 23,
   "metadata": {},
   "outputs": [
    {
     "name": "stdout",
     "output_type": "stream",
     "text": [
      "+----------+---+\n",
      "|first_name|age|\n",
      "+----------+---+\n",
      "|     Ededd| 43|\n",
      "|      Noem| 43|\n",
      "+----------+---+\n",
      "\n"
     ]
    }
   ],
   "source": [
    "df.where((df.age >25)&(df.gender=='F')).select(\"first_name\",\"age\").show()"
   ]
  },
  {
   "cell_type": "code",
   "execution_count": 24,
   "metadata": {},
   "outputs": [],
   "source": [
    "df.filter?  #c查看帮助"
   ]
  },
  {
   "cell_type": "code",
   "execution_count": 25,
   "metadata": {},
   "outputs": [
    {
     "name": "stdout",
     "output_type": "stream",
     "text": [
      "+----------+---------+------+---+\n",
      "|first_name|last_name|gender|age|\n",
      "+----------+---------+------+---+\n",
      "|     Ededd|   Shankj|     F| 43|\n",
      "|      Noem|      Lii|     F| 43|\n",
      "+----------+---------+------+---+\n",
      "\n"
     ]
    }
   ],
   "source": [
    "df.filter((df.age >25)&(df.gender=='F')).orderBy(\"first_name\",\"age\").show()"
   ]
  },
  {
   "cell_type": "code",
   "execution_count": 33,
   "metadata": {},
   "outputs": [
    {
     "name": "stdout",
     "output_type": "stream",
     "text": [
      "+----------+---+\n",
      "|first_name|age|\n",
      "+----------+---+\n",
      "|      Noem| 43|\n",
      "|     Ededd| 43|\n",
      "|      Djgd| 44|\n",
      "+----------+---+\n",
      "\n"
     ]
    }
   ],
   "source": [
    "df.filter(df.age >25).select(\"first_name\",\"age\").orderBy([\"age\",\"first_name\"],ascending=[1,0]).show()#orderBy([\"age\",\"first_name\"],ascending=[1,0])中间是逗号"
   ]
  },
  {
   "cell_type": "code",
   "execution_count": 37,
   "metadata": {},
   "outputs": [
    {
     "name": "stdout",
     "output_type": "stream",
     "text": [
      "+----------+------+-----+\n",
      "|first_name|gender|young|\n",
      "+----------+------+-----+\n",
      "|     Ededd|     F|false|\n",
      "|      Noem|     F|false|\n",
      "|      Rgfj|     M| true|\n",
      "|      Djgd|     M|false|\n",
      "+----------+------+-----+\n",
      "\n"
     ]
    }
   ],
   "source": [
    "df.select(df[\"first_name\"],df[\"gender\"],(df[\"age\"]<24).alias(\"young\")).show()"
   ]
  },
  {
   "cell_type": "code",
   "execution_count": 7,
   "metadata": {},
   "outputs": [],
   "source": [
    "df.registerTempTable(\"names\")"
   ]
  },
  {
   "cell_type": "code",
   "execution_count": 36,
   "metadata": {},
   "outputs": [
    {
     "name": "stdout",
     "output_type": "stream",
     "text": [
      "+----------+---------+---+-----+\n",
      "|first_name|last_name|age|young|\n",
      "+----------+---------+---+-----+\n",
      "|     Ededd|   Shankj| 43|false|\n",
      "|      Noem|      Lii| 43|false|\n",
      "|      Rgfj|       Wu| 23| true|\n",
      "|      Djgd|     Sjdh| 44|false|\n",
      "+----------+---------+---+-----+\n",
      "\n"
     ]
    }
   ],
   "source": [
    "spark.sql(\"SELECT first_name,last_name,age,age<30 AS young FROM names\").show()"
   ]
  },
  {
   "cell_type": "code",
   "execution_count": 39,
   "metadata": {},
   "outputs": [
    {
     "name": "stdout",
     "output_type": "stream",
     "text": [
      "+---+-----+\n",
      "|age|count|\n",
      "+---+-----+\n",
      "| 43|    2|\n",
      "| 44|    1|\n",
      "| 23|    1|\n",
      "+---+-----+\n",
      "\n"
     ]
    }
   ],
   "source": [
    "df.groupBy(\"age\").count().show()#分组统计"
   ]
  },
  {
   "cell_type": "code",
   "execution_count": 40,
   "metadata": {},
   "outputs": [
    {
     "name": "stdout",
     "output_type": "stream",
     "text": [
      "+---+----------+\n",
      "|age|count(age)|\n",
      "+---+----------+\n",
      "| 43|         2|\n",
      "| 44|         1|\n",
      "| 23|         1|\n",
      "+---+----------+\n",
      "\n"
     ]
    }
   ],
   "source": [
    "spark.sql(\"SELECT age,count(age) FROM names GROUP BY age\").show()"
   ]
  },
  {
   "cell_type": "code",
   "execution_count": null,
   "metadata": {},
   "outputs": [],
   "source": [
    "df2 =spark.read.json('')"
   ]
  }
 ],
 "metadata": {
  "kernelspec": {
   "display_name": "Python 3",
   "language": "python",
   "name": "python3"
  },
  "language_info": {
   "codemirror_mode": {
    "name": "ipython",
    "version": 3
   },
   "file_extension": ".py",
   "mimetype": "text/x-python",
   "name": "python",
   "nbconvert_exporter": "python",
   "pygments_lexer": "ipython3",
   "version": "3.7.0"
  }
 },
 "nbformat": 4,
 "nbformat_minor": 2
}
