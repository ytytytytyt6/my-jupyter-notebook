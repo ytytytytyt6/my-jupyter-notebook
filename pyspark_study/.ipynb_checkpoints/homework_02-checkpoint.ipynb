{
 "cells": [
  {
   "cell_type": "code",
   "execution_count": null,
   "metadata": {},
   "outputs": [],
   "source": [
    "import findspark\n",
    "findspark.init()\n",
    "import pyspark \n",
    "sc = pyspark.SparkContext(appName='rdd_excercise_2')"
   ]
  },
  {
   "cell_type": "code",
   "execution_count": null,
   "metadata": {},
   "outputs": [],
   "source": [
    "acTransList =sc.parallelize([(\"SB10001\",1000),(\"SB10002\",1200),(\"SB10003\",8000),(\"SB10004\",4000),(\"SB10004\",300),(\"SB10003\",10000),(\"SB10002\",500),(\"SB10002\",56),(\"SB10001\",1000),(\"SB10003\",1000),(\"SB10004\",-1000)])\n",
    "acTransList.collect()"
   ]
  }
 ],
 "metadata": {
  "kernelspec": {
   "display_name": "Python 3",
   "language": "python",
   "name": "python3"
  },
  "language_info": {
   "codemirror_mode": {
    "name": "ipython",
    "version": 3
   },
   "file_extension": ".py",
   "mimetype": "text/x-python",
   "name": "python",
   "nbconvert_exporter": "python",
   "pygments_lexer": "ipython3",
   "version": "3.7.0"
  }
 },
 "nbformat": 4,
 "nbformat_minor": 2
}
