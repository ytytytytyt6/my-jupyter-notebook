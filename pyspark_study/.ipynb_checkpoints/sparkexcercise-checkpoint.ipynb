{
 "cells": [
  {
   "cell_type": "code",
   "execution_count": 5,
   "metadata": {},
   "outputs": [],
   "source": [
    "#搞不清楚读文件和列表的区别\n",
    "#https://spark.apache.org/docs/latest/api/python/pyspark.html#pyspark.RDD\n",
    "import findspark\n",
    "findspark.init()\n",
    "from pyspark.sql import SparkSession\n",
    "spark = SparkSession.builder\\\n",
    "    .config(\"sparksql.warehouse.dir\",\"file:///c:/temp\")\\\n",
    "    .appName(\"rdd_operation\").getOrCreate()\n",
    "spark.conf.set(\"spark.executor.memory\",\"4g\")\n",
    "sc = spark.sparkContext#注意是sparkContext，不是SparkContext"
   ]
  },
  {
   "cell_type": "markdown",
   "metadata": {},
   "source": [
    "#### 创建RDDS"
   ]
  },
  {
   "cell_type": "code",
   "execution_count": 6,
   "metadata": {},
   "outputs": [],
   "source": [
    "data = sc.parallelize([(\"Amber\",22),(\"Ember\",23),(\"Pmber\",24),(\"Gmber\",12),\n",
    "                       (\"Amber\",9)])"
   ]
  },
  {
   "cell_type": "code",
   "execution_count": 7,
   "metadata": {},
   "outputs": [
    {
     "data": {
      "text/plain": [
       "[('Amber', 22), ('Ember', 23), ('Pmber', 24), ('Gmber', 12), ('Amber', 9)]"
      ]
     },
     "execution_count": 7,
     "metadata": {},
     "output_type": "execute_result"
    }
   ],
   "source": [
    "data.collect()#一般不要轻易使用，一般数据量大，使用take()"
   ]
  },
  {
   "cell_type": "code",
   "execution_count": 8,
   "metadata": {},
   "outputs": [],
   "source": [
    "data_from_file =sc.textFile('sales.csv',4)"
   ]
  },
  {
   "cell_type": "markdown",
   "metadata": {},
   "source": [
    "#### Schema\n",
    "rdds是schema-less的数据结构"
   ]
  },
  {
   "cell_type": "code",
   "execution_count": 10,
   "metadata": {},
   "outputs": [
    {
     "data": {
      "text/plain": [
       "[('ferrari', 'fast'), {'porsche': 100000}, ['spain', 'visited', 4504]]"
      ]
     },
     "execution_count": 10,
     "metadata": {},
     "output_type": "execute_result"
    }
   ],
   "source": [
    "data_hetergenous =sc.parallelize([(\"ferrari\",\"fast\"),{\"porsche\":100000},[\"spain\",\"visited\",4504]]).collect()\n",
    "data_hetergenous"
   ]
  },
  {
   "cell_type": "code",
   "execution_count": null,
   "metadata": {},
   "outputs": [],
   "source": [
    "#像python一样进行数据访问\n"
   ]
  }
 ],
 "metadata": {
  "kernelspec": {
   "display_name": "Python 3",
   "language": "python",
   "name": "python3"
  },
  "language_info": {
   "codemirror_mode": {
    "name": "ipython",
    "version": 3
   },
   "file_extension": ".py",
   "mimetype": "text/x-python",
   "name": "python",
   "nbconvert_exporter": "python",
   "pygments_lexer": "ipython3",
   "version": "3.7.0"
  }
 },
 "nbformat": 4,
 "nbformat_minor": 2
}
