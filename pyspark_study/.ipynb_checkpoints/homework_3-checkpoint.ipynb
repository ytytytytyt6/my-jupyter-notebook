{
 "cells": [
  {
   "cell_type": "code",
   "execution_count": 1,
   "metadata": {},
   "outputs": [],
   "source": [
    "import findspark\n",
    "findspark.init()\n",
    "import pyspark \n",
    "sc = pyspark.SparkContext(appName='rdd_excercise_2')\n"
   ]
  },
  {
   "cell_type": "code",
   "execution_count": 2,
   "metadata": {},
   "outputs": [],
   "source": [
    "#汇总某个账号下的所有信息，姓名，总的交易\n",
    "from decimal import Decimal\n",
    "acMasterList = [\"SB10001,Roger,Federer\",\"SB10002,Roger,Federer\",\"SB10003,Roger,Federer\",\"SB10004,Roger,Federer\",\"SB10005,Roger,Federer\"]\n",
    "acBalList = [\"SB10001,50000\",\"SB10002,12000\",\"SB10003,3000\",\"SB10004,8500\",\"SB10005,5000\"]"
   ]
  },
  {
   "cell_type": "code",
   "execution_count": 16,
   "metadata": {},
   "outputs": [],
   "source": [
    "acBalList_rdd = sc.parallelize(acBalList)\n",
    "transDict =  sc.broadcast(acBalList)\n",
    "\n",
    "#acBalList_rdd.map(lambda x:(transDict[0],x[1])).take(5)\n",
    "# results = sortedMovieswithNames.collect()\n",
    "# for result in results:\n",
    "#     print(result)"
   ]
  },
  {
   "cell_type": "code",
   "execution_count": null,
   "metadata": {},
   "outputs": [],
   "source": []
  }
 ],
 "metadata": {
  "kernelspec": {
   "display_name": "Python 3",
   "language": "python",
   "name": "python3"
  },
  "language_info": {
   "codemirror_mode": {
    "name": "ipython",
    "version": 3
   },
   "file_extension": ".py",
   "mimetype": "text/x-python",
   "name": "python",
   "nbconvert_exporter": "python",
   "pygments_lexer": "ipython3",
   "version": "3.7.0"
  }
 },
 "nbformat": 4,
 "nbformat_minor": 2
}
