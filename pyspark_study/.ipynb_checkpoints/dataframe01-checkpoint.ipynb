{
 "cells": [
  {
   "cell_type": "markdown",
   "metadata": {},
   "source": [
    "#DataFrame与RDD对比\n",
    "可以理解为有schema的RDD\n",
    "DataFrame性能更优化\n",
    "DataFrame可以染R/Python用户低成本地转移过来\n",
    "\n",
    "\n",
    "Ededd,Shankj,F,43\n",
    "Noem,Lii,F,43\n",
    "Rgfj,Wu,M,23\n",
    "Djgd,Sjdh,M,44\n",
    "\n",
    "Schema：\n",
    "First name：string\n",
    "Last name：string\n",
    "Gender：string\n",
    "Age： int\n"
   ]
  },
  {
   "cell_type": "code",
   "execution_count": null,
   "metadata": {},
   "outputs": [],
   "source": [
    "import findspark\n",
    "findspark.init()\n",
    "from pyspark import SparkConf,SparkContext\n",
    "conf = SparkConf().setMaster('local').setAppName('Life_of_Pi')\n",
    "sc = SparkContext(conf = conf)"
   ]
  },
  {
   "cell_type": "code",
   "execution_count": null,
   "metadata": {},
   "outputs": [],
   "source": [
    "rdd =sc.textFile(\"people.csv\")\n",
    "rdd.collect()"
   ]
  },
  {
   "cell_type": "code",
   "execution_count": null,
   "metadata": {},
   "outputs": [],
   "source": [
    "from pyspark.sql import Row\n",
    "Person =Row(\"first_name\",\"last_name\",\"gender\",\"age\")\n",
    "def line_to_person(line):\n",
    "    cells =line.split(\",\")\n",
    "    cells[3] = int(cells[3])\n",
    "    return Person(*cells)\n",
    "\n",
    "peopleRDD=rdd.map(line_to_person)\n",
    "df = peopleRDD.toDF()\n",
    "printSchema()"
   ]
  },
  {
   "cell_type": "code",
   "execution_count": null,
   "metadata": {},
   "outputs": [],
   "source": [
    "#verison 2\n",
    "from collections import namedtuple\n",
    "Person = namedtuple('people',[\"first_name\",\"last_name\",\"gender\",\"age\"])\n",
    "rdd =sc.textFile(\"people.csv\")\n",
    "def line_to_person(line):\n",
    "    cells =line.split(\",\")\n",
    "    return Person(cells[0],cells[1],cells[2],int(cells[3]))\n",
    "peopleRDD=rdd.map(line_to_person)\n",
    "df = peopleRDD.toDF()\n",
    "printSchema()"
   ]
  },
  {
   "cell_type": "markdown",
   "metadata": {},
   "source": [
    "#统一读/写接口（builder）+更少代码 ：更高层的抽象\n",
    "df =spark.\n",
    "    read.\n",
    "    FORMAT(\"json\").\n",
    "    option(\"SampleRatio\",\"0.1\").\n",
    "    load(\"/your/directory/data.json\")\n",
    "    \n",
    "df.write.\n",
    "    format(\"parpuet\").\n",
    "    mode(\"append\").\n",
    "    partitionBy(\"year\").\n",
    "    saveAsTable(\"more_stuff\") \n"
   ]
  },
  {
   "cell_type": "markdown",
   "metadata": {},
   "source": [
    "dataframe---->SparkSQL  都可以完成相应操作\n",
    "\n",
    "young.registerTempTable(\"young\")\n",
    "spark.sql(\"SELECT count(*) FROM young\")"
   ]
  },
  {
   "cell_type": "code",
   "execution_count": null,
   "metadata": {},
   "outputs": [],
   "source": []
  },
  {
   "cell_type": "code",
   "execution_count": null,
   "metadata": {},
   "outputs": [],
   "source": []
  }
 ],
 "metadata": {
  "kernelspec": {
   "display_name": "Python 3",
   "language": "python",
   "name": "python3"
  },
  "language_info": {
   "codemirror_mode": {
    "name": "ipython",
    "version": 3
   },
   "file_extension": ".py",
   "mimetype": "text/x-python",
   "name": "python",
   "nbconvert_exporter": "python",
   "pygments_lexer": "ipython3",
   "version": "3.7.0"
  }
 },
 "nbformat": 4,
 "nbformat_minor": 2
}
